{
 "cells": [
  {
   "cell_type": "markdown",
   "metadata": {},
   "source": [
    "# Drivers of Foreign Exchange - Thesis Work"
   ]
  },
  {
   "cell_type": "code",
   "execution_count": null,
   "metadata": {},
   "outputs": [],
   "source": [
    "import pandas as pd "
   ]
  },
  {
   "cell_type": "markdown",
   "metadata": {},
   "source": [
    "Creating a function to check if the name of the journal is among the top, reputed journals in the field of economics."
   ]
  },
  {
   "cell_type": "code",
   "execution_count": 1,
   "metadata": {},
   "outputs": [
    {
     "name": "stdout",
     "output_type": "stream",
     "text": [
      "Yes, you should take a look at this paper\n"
     ]
    }
   ],
   "source": [
    "top_economics_journals = [\n",
    "    'American Economic Review', \n",
    "    'Quarterly Journal of Economics', \n",
    "    'Journal of Political Economy', \n",
    "    'Econometrica', \n",
    "    'Review of Economic Studies', \n",
    "    'Journal of Economic Theory', \n",
    "    'Journal of Finance', \n",
    "    'Journal of Monetary Economics', \n",
    "    'Journal of Econometrics', \n",
    "    'Journal of Economic Perspectives',\n",
    "    'Economic Journal',\n",
    "    'International Economic Review',\n",
    "    'Journal of the European Economic Association',\n",
    "    'Quantitative Economics',\n",
    "    'Review of Economics and Statistics', \n",
    "    'Journal of Environmental Economics and Management',\n",
    "    'Journal of the Association of Environmental and Resource Economists',\n",
    "    'Journal of Economic History',\n",
    "    'Journal of Development Economics', \n",
    "    'Journal of Economic Growth',\n",
    "    'Theoretical Economics',\n",
    "    'Games and Economic Behavior',\n",
    "    'Journal of Financial Economics', \n",
    "    'Review of Financial Studies',\n",
    "    'Journal of Health Economics',\n",
    "    'American Journal of Health Economics',\n",
    "    'RAND Journal of Economics',\n",
    "    'Journal of Industrial Economics',\n",
    "    'Journal of International Economics',\n",
    "    'Journal of Labor Economics',\n",
    "    'Journal of Human Resources',\n",
    "    'Review of Economic Dynamics', \n",
    "    'Journal of Money, Credit, and Banking',\n",
    "    'Journal of Public Economics', \n",
    "    'Journal of Urban Economics',\n",
    "\n",
    "]\n",
    "def check_journal(journal_name):\n",
    "    # Step 3: Check if the journal is in the list\n",
    "    if journal_name in top_economics_journals:\n",
    "        print(\"Yes, you should take a look at this paper\")\n",
    "    else:\n",
    "        print(\"No, move on to another paper\")\n",
    "\n",
    "journal = input(\"Enter the name of the journal: \")\n",
    "check_journal(journal)"
   ]
  },
  {
   "cell_type": "code",
   "execution_count": null,
   "metadata": {},
   "outputs": [],
   "source": []
  }
 ],
 "metadata": {
  "kernelspec": {
   "display_name": "base",
   "language": "python",
   "name": "python3"
  },
  "language_info": {
   "codemirror_mode": {
    "name": "ipython",
    "version": 3
   },
   "file_extension": ".py",
   "mimetype": "text/x-python",
   "name": "python",
   "nbconvert_exporter": "python",
   "pygments_lexer": "ipython3",
   "version": "3.10.9"
  }
 },
 "nbformat": 4,
 "nbformat_minor": 2
}
