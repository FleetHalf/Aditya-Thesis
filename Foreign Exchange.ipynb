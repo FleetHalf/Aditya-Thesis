{
 "cells": [
  {
   "cell_type": "markdown",
   "metadata": {},
   "source": [
    "# Drivers of Foreign Exchange - Thesis Work"
   ]
  },
  {
   "cell_type": "code",
   "execution_count": 1,
   "metadata": {},
   "outputs": [],
   "source": [
    "import pandas as pd\n",
    "import requests"
   ]
  },
  {
   "cell_type": "markdown",
   "metadata": {},
   "source": [
    "Setting up the code to extract data using API from the IMF site."
   ]
  },
  {
   "cell_type": "code",
   "execution_count": 16,
   "metadata": {},
   "outputs": [
    {
     "name": "stdout",
     "output_type": "stream",
     "text": [
      "{'CompactData': {'@xmlns:xsi': 'http://www.w3.org/2001/XMLSchema-instance', '@xmlns:xsd': 'http://www.w3.org/2001/XMLSchema', '@xsi:schemaLocation': 'http://www.SDMX.org/resources/SDMXML/schemas/v2_0/message https://registry.sdmx.org/schemas/v2_0/SDMXMessage.xsd http://dataservices.imf.org/compact/DOT http://dataservices.imf.org/compact/DOT.xsd', '@xmlns': 'http://www.SDMX.org/resources/SDMXML/schemas/v2_0/message', 'Header': {'ID': '4ff014dc-a86b-4fb9-9872-4074062b9856', 'Test': 'false', 'Prepared': '2024-09-07T09:37:25', 'Sender': {'@id': '1C0', 'Name': {'@xml:lang': 'en', '#text': 'IMF'}, 'Contact': {'URI': 'http://www.imf.org', 'Telephone': '+ 1 (202) 623-6220'}}, 'Receiver': {'@id': 'ZZZ'}, 'DataSetID': 'DOT'}, 'DataSet': {'@xmlns': 'http://dataservices.imf.org/compact/DOT', 'Series': {'@FREQ': 'A', '@REF_AREA': 'W00', '@INDICATOR': 'TXG_FOB_USD', '@COUNTERPART_AREA': 'W00', '@UNIT_MULT': '6', '@TIME_FORMAT': 'P1Y', 'Obs': [{'@TIME_PERIOD': '1948', '@OBS_VALUE': '51435.2'}, {'@TIME_PERIOD': '1949', '@OBS_VALUE': '46792.5'}, {'@TIME_PERIOD': '1950', '@OBS_VALUE': '47628.4'}, {'@TIME_PERIOD': '1951', '@OBS_VALUE': '69159.9'}, {'@TIME_PERIOD': '1952', '@OBS_VALUE': '66775.6'}, {'@TIME_PERIOD': '1953', '@OBS_VALUE': '67951'}, {'@TIME_PERIOD': '1954', '@OBS_VALUE': '69563.4'}, {'@TIME_PERIOD': '1955', '@OBS_VALUE': '82408.2'}, {'@TIME_PERIOD': '1956', '@OBS_VALUE': '92078.6'}, {'@TIME_PERIOD': '1957', '@OBS_VALUE': '99228.2'}, {'@TIME_PERIOD': '1958', '@OBS_VALUE': '84982.472'}, {'@TIME_PERIOD': '1959', '@OBS_VALUE': '91087.916'}, {'@TIME_PERIOD': '1960', '@OBS_VALUE': '105984.569'}, {'@TIME_PERIOD': '1961', '@OBS_VALUE': '111893.173'}, {'@TIME_PERIOD': '1962', '@OBS_VALUE': '116322.905'}, {'@TIME_PERIOD': '1963', '@OBS_VALUE': '127639.803'}, {'@TIME_PERIOD': '1964', '@OBS_VALUE': '147523.225'}, {'@TIME_PERIOD': '1965', '@OBS_VALUE': '159921.054'}, {'@TIME_PERIOD': '1966', '@OBS_VALUE': '177538.807'}, {'@TIME_PERIOD': '1967', '@OBS_VALUE': '187616.968'}, {'@TIME_PERIOD': '1968', '@OBS_VALUE': '212749.052'}, {'@TIME_PERIOD': '1969', '@OBS_VALUE': '242403.09'}, {'@TIME_PERIOD': '1970', '@OBS_VALUE': '281556.387'}, {'@TIME_PERIOD': '1971', '@OBS_VALUE': '309620.595'}, {'@TIME_PERIOD': '1972', '@OBS_VALUE': '372864.881'}, {'@TIME_PERIOD': '1973', '@OBS_VALUE': '521668.498'}, {'@TIME_PERIOD': '1974', '@OBS_VALUE': '745575.635'}, {'@TIME_PERIOD': '1975', '@OBS_VALUE': '771154.467'}, {'@TIME_PERIOD': '1976', '@OBS_VALUE': '886129.162'}, {'@TIME_PERIOD': '1977', '@OBS_VALUE': '1007904.633'}, {'@TIME_PERIOD': '1978', '@OBS_VALUE': '1176114.337'}, {'@TIME_PERIOD': '1979', '@OBS_VALUE': '1497996.30917308'}, {'@TIME_PERIOD': '1980', '@OBS_VALUE': '1830870.68535431'}, {'@TIME_PERIOD': '1981', '@OBS_VALUE': '1912956.27752884'}, {'@TIME_PERIOD': '1982', '@OBS_VALUE': '1773347.17873336'}, {'@TIME_PERIOD': '1983', '@OBS_VALUE': '1727834.13132901'}, {'@TIME_PERIOD': '1984', '@OBS_VALUE': '1835039.80192321'}, {'@TIME_PERIOD': '1985', '@OBS_VALUE': '1872672.80301426'}, {'@TIME_PERIOD': '1986', '@OBS_VALUE': '2041335.46887527'}, {'@TIME_PERIOD': '1987', '@OBS_VALUE': '2412543.57512346'}, {'@TIME_PERIOD': '1988', '@OBS_VALUE': '2759129.31804409'}, {'@TIME_PERIOD': '1989', '@OBS_VALUE': '2980836.21012408'}, {'@TIME_PERIOD': '1990', '@OBS_VALUE': '3375342.61572265'}, {'@TIME_PERIOD': '1991', '@OBS_VALUE': '3485932.25177839'}, {'@TIME_PERIOD': '1992', '@OBS_VALUE': '3725770.26472199'}, {'@TIME_PERIOD': '1993', '@OBS_VALUE': '3710796.17573035'}, {'@TIME_PERIOD': '1994', '@OBS_VALUE': '4249513.79653328'}, {'@TIME_PERIOD': '1995', '@OBS_VALUE': '5070786.088478'}, {'@TIME_PERIOD': '1996', '@OBS_VALUE': '5293639.82102156'}, {'@TIME_PERIOD': '1997', '@OBS_VALUE': '5526904.82804595'}, {'@TIME_PERIOD': '1998', '@OBS_VALUE': '5395920.88858263'}, {'@TIME_PERIOD': '1999', '@OBS_VALUE': '5663375.11575066'}, {'@TIME_PERIOD': '2000', '@OBS_VALUE': '6483994.345216'}, {'@TIME_PERIOD': '2001', '@OBS_VALUE': '6233183.862343'}, {'@TIME_PERIOD': '2002', '@OBS_VALUE': '6534869.991247'}, {'@TIME_PERIOD': '2003', '@OBS_VALUE': '7657656.306852'}, {'@TIME_PERIOD': '2004', '@OBS_VALUE': '9246337.103349'}, {'@TIME_PERIOD': '2005', '@OBS_VALUE': '10541274.999575'}, {'@TIME_PERIOD': '2006', '@OBS_VALUE': '12146290.82837'}, {'@TIME_PERIOD': '2007', '@OBS_VALUE': '14071394.063385'}, {'@TIME_PERIOD': '2008', '@OBS_VALUE': '16304037.453209'}, {'@TIME_PERIOD': '2009', '@OBS_VALUE': '12421236.23138'}, {'@TIME_PERIOD': '2010', '@OBS_VALUE': '15232222.106006'}, {'@TIME_PERIOD': '2011', '@OBS_VALUE': '18203668.022846'}, {'@TIME_PERIOD': '2012', '@OBS_VALUE': '18342941.876514'}, {'@TIME_PERIOD': '2013', '@OBS_VALUE': '18710152.52919'}, {'@TIME_PERIOD': '2014', '@OBS_VALUE': '18807408.681704'}, {'@TIME_PERIOD': '2015', '@OBS_VALUE': '16443519.449199'}, {'@TIME_PERIOD': '2016', '@OBS_VALUE': '16012106.92516'}, {'@TIME_PERIOD': '2017', '@OBS_VALUE': '17656463.424734'}, {'@TIME_PERIOD': '2018', '@OBS_VALUE': '19382625.6336867'}, {'@TIME_PERIOD': '2019', '@OBS_VALUE': '18840799.602736'}, {'@TIME_PERIOD': '2020', '@OBS_VALUE': '17405074.306323'}, {'@TIME_PERIOD': '2021', '@OBS_VALUE': '22097496.317177'}, {'@TIME_PERIOD': '2022', '@OBS_VALUE': '24710751.649284'}, {'@TIME_PERIOD': '2023', '@OBS_VALUE': '23560357.50406'}]}}}}\n"
     ]
    }
   ],
   "source": [
    "url = 'http://dataservices.imf.org/REST/SDMX_JSON.svc/CompactData/DOT/A.W00.TXG_FOB_USD.W00.?startPeriod=1947&endPeriod=2023'\n",
    "response = requests.get(f'{url}')\n",
    "data_yearly = response.json()\n",
    "print(data_yearly)"
   ]
  },
  {
   "cell_type": "markdown",
   "metadata": {},
   "source": [
    "This got me yearly data. If I want monthly data, I'd need to change it to M.W00. etc, and for quarterly, the parameter is Q."
   ]
  },
  {
   "cell_type": "code",
   "execution_count": 18,
   "metadata": {},
   "outputs": [
    {
     "name": "stdout",
     "output_type": "stream",
     "text": [
      "{'@TIME_PERIOD': '2023', '@OBS_VALUE': '23560357.50406'}\n"
     ]
    }
   ],
   "source": [
    "final_dataset = data_yearly['CompactData']['DataSet']['Series']\n",
    "print(final_dataset['Obs'][-1]) #extracting the latest observation \n"
   ]
  },
  {
   "cell_type": "code",
   "execution_count": null,
   "metadata": {},
   "outputs": [],
   "source": []
  }
 ],
 "metadata": {
  "kernelspec": {
   "display_name": "base",
   "language": "python",
   "name": "python3"
  },
  "language_info": {
   "codemirror_mode": {
    "name": "ipython",
    "version": 3
   },
   "file_extension": ".py",
   "mimetype": "text/x-python",
   "name": "python",
   "nbconvert_exporter": "python",
   "pygments_lexer": "ipython3",
   "version": "3.10.9"
  }
 },
 "nbformat": 4,
 "nbformat_minor": 2
}
